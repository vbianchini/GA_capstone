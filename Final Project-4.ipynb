{
 "cells": [
  {
   "cell_type": "markdown",
   "metadata": {},
   "source": [
    "## EDA- Summary\n",
    "\n",
    "After familiarising with the dataset through the EDA, next step is to get the data ready for modelling. \n",
    "\n",
    "- We are working with a sample of the original data, which contains 191385 cases, and 24 features. \n",
    "- Our target feature, 'hotel_cluster' ranges from 0-100, and we have all values represented in our sample.\n",
    "- Several of our potentially predicting features are categorical (user_location, is_mobile, is_package, etc...), so we need to decide how to treat them: if use as they are, or dummify. \n",
    "- Further, work is needed to incorporate the variables srch_ci & srch_co, the check in and out dates. \n",
    "- We have seen no strong correlations among the features. No likely predictor has arised, and no potential multicollinearity has been detected."
   ]
  },
  {
   "cell_type": "markdown",
   "metadata": {},
   "source": [
    "## Preparing the data for modelling:"
   ]
  },
  {
   "cell_type": "code",
   "execution_count": 1,
   "metadata": {
    "collapsed": true
   },
   "outputs": [],
   "source": [
    "import numpy as np\n",
    "import pandas as pd\n",
    "%matplotlib inline"
   ]
  },
  {
   "cell_type": "code",
   "execution_count": 2,
   "metadata": {
    "collapsed": false
   },
   "outputs": [],
   "source": [
    "#Let's begin by importing our clean sample\n",
    "EXPEDIA_FOLDER = \"/Users/veronicabianchini/Documents/GA-Data Science/Expedia Project/\"\n",
    "sample_clean = pd.read_csv(EXPEDIA_FOLDER+\"sampled_df_2017-05-13-13-58-59.csv\")"
   ]
  },
  {
   "cell_type": "code",
   "execution_count": 3,
   "metadata": {
    "collapsed": false
   },
   "outputs": [
    {
     "data": {
      "text/plain": [
       "(191385, 26)"
      ]
     },
     "execution_count": 3,
     "metadata": {},
     "output_type": "execute_result"
    }
   ],
   "source": [
    "sample_clean.shape"
   ]
  },
  {
   "cell_type": "markdown",
   "metadata": {
    "collapsed": true
   },
   "source": [
    "Description of my variables (capture from Kaggle)"
   ]
  },
  {
   "cell_type": "markdown",
   "metadata": {},
   "source": [
    "![alt text](Expedia_data_features.png \"Data Features\")"
   ]
  },
  {
   "cell_type": "markdown",
   "metadata": {},
   "source": [
    "Second, let's create the dummy variables neede, and drop the feature we won't use: Which ones in my set would need transforming?\n",
    "- 'date_time': will drop for now, buy might use the month & days values \n",
    "- 'site_name' : will not use in my model\n",
    "- *'posa_continent'*: will make into dummy\n",
    "- *'user_location_country'* : will make into dummy\n",
    "- *'user_location_region'*: will make into dummy\n",
    "- 'user_location_city': will drop, since it has too many categories to use as dummy\n",
    "- 'orig_destination_distance': is scalar variable already \n",
    "- 'user_id': won't use in my model\n",
    "- 'is_mobile' : is already a dummy\n",
    "- 'is_package' : is already a dummy\n",
    "- 'channel': won't use in my model\n",
    "- 'srch_ci': will create 'stay_lenght'\n",
    "- 'srch_co': will create 'stay_lenght'\n",
    "- 'srch_adults_cnt': is scalar variable already  \n",
    "- 'srch_children_cnt': is scalar variable already  \n",
    "- 'srch_rm_cnt': is scalar variable already \n",
    "- 'srch_destination_id': will not use in my model\n",
    "- *'srch_destination_type_id'*: will make into dummy\n",
    "- 'is_booking': is already a dummy\n",
    "- 'cnt': won't use in my model\n",
    "- *'hotel_continent'*: will make into dummy \n",
    "- *'hotel_country'*: will make into dummy \n",
    "- *'hotel_market'*: will make into dummy\n",
    "- **'hotel_cluster'**: Is my target.\n"
   ]
  },
  {
   "cell_type": "markdown",
   "metadata": {},
   "source": [
    "### Strategy for creating feature matrix:\n",
    "\n",
    "- Get columns to convert to dummy\n",
    "- Get columns to drop from initial modelling.\n",
    "- Add dummy columns.\n",
    "- Separate feature matrix from the target variable into X and Y dataframe."
   ]
  },
  {
   "cell_type": "code",
   "execution_count": 4,
   "metadata": {
    "collapsed": true
   },
   "outputs": [],
   "source": [
    "#Get columns to convert to dummy\n",
    "columns_to_dummies = [\n",
    "    'posa_continent',\n",
    "    'user_location_country',\n",
    "    'user_location_region',\n",
    "    'srch_destination_type_id',\n",
    "    'hotel_continent', \n",
    "    'hotel_country',\n",
    "    'hotel_market'\n",
    "]\n",
    "\n",
    "columns_to_drop = [\n",
    "    \"Unnamed: 0\",\n",
    "    \"Unnamed: 0.1\",\n",
    "    \"date_time\",\n",
    "    \"site_name\",\n",
    "    \"user_location_city\",\n",
    "    \"srch_ci\",\n",
    "    \"srch_co\",\n",
    "    \"srch_destination_id\",\n",
    "    \"user_id\",\n",
    "    \"cnt\",\n",
    "    \"channel\"\n",
    "]"
   ]
  },
  {
   "cell_type": "code",
   "execution_count": 5,
   "metadata": {
    "collapsed": false,
    "scrolled": true
   },
   "outputs": [
    {
     "data": {
      "text/plain": [
       "Index([u'Unnamed: 0', u'Unnamed: 0.1', u'date_time', u'site_name',\n",
       "       u'posa_continent', u'user_location_country', u'user_location_region',\n",
       "       u'user_location_city', u'orig_destination_distance', u'user_id',\n",
       "       u'is_mobile', u'is_package', u'channel', u'srch_ci', u'srch_co',\n",
       "       u'srch_adults_cnt', u'srch_children_cnt', u'srch_rm_cnt',\n",
       "       u'srch_destination_id', u'srch_destination_type_id', u'is_booking',\n",
       "       u'cnt', u'hotel_continent', u'hotel_country', u'hotel_market',\n",
       "       u'hotel_cluster'],\n",
       "      dtype='object')"
      ]
     },
     "execution_count": 5,
     "metadata": {},
     "output_type": "execute_result"
    }
   ],
   "source": [
    "sample_clean.columns"
   ]
  },
  {
   "cell_type": "code",
   "execution_count": 6,
   "metadata": {
    "collapsed": false
   },
   "outputs": [
    {
     "data": {
      "text/html": [
       "<div>\n",
       "<table border=\"1\" class=\"dataframe\">\n",
       "  <thead>\n",
       "    <tr style=\"text-align: right;\">\n",
       "      <th></th>\n",
       "      <th>posa_continent</th>\n",
       "      <th>user_location_country</th>\n",
       "      <th>user_location_region</th>\n",
       "      <th>orig_destination_distance</th>\n",
       "      <th>is_mobile</th>\n",
       "      <th>is_package</th>\n",
       "      <th>srch_adults_cnt</th>\n",
       "      <th>srch_children_cnt</th>\n",
       "      <th>srch_rm_cnt</th>\n",
       "      <th>srch_destination_type_id</th>\n",
       "      <th>is_booking</th>\n",
       "      <th>hotel_continent</th>\n",
       "      <th>hotel_country</th>\n",
       "      <th>hotel_market</th>\n",
       "      <th>hotel_cluster</th>\n",
       "    </tr>\n",
       "  </thead>\n",
       "  <tbody>\n",
       "    <tr>\n",
       "      <th>0</th>\n",
       "      <td>3</td>\n",
       "      <td>66</td>\n",
       "      <td>226</td>\n",
       "      <td>749.7598</td>\n",
       "      <td>0</td>\n",
       "      <td>1</td>\n",
       "      <td>1</td>\n",
       "      <td>1</td>\n",
       "      <td>1</td>\n",
       "      <td>1</td>\n",
       "      <td>0</td>\n",
       "      <td>2</td>\n",
       "      <td>50</td>\n",
       "      <td>675</td>\n",
       "      <td>69</td>\n",
       "    </tr>\n",
       "    <tr>\n",
       "      <th>1</th>\n",
       "      <td>3</td>\n",
       "      <td>66</td>\n",
       "      <td>196</td>\n",
       "      <td>152.9141</td>\n",
       "      <td>0</td>\n",
       "      <td>0</td>\n",
       "      <td>2</td>\n",
       "      <td>1</td>\n",
       "      <td>1</td>\n",
       "      <td>1</td>\n",
       "      <td>0</td>\n",
       "      <td>2</td>\n",
       "      <td>50</td>\n",
       "      <td>694</td>\n",
       "      <td>25</td>\n",
       "    </tr>\n",
       "  </tbody>\n",
       "</table>\n",
       "</div>"
      ],
      "text/plain": [
       "   posa_continent  user_location_country  user_location_region  \\\n",
       "0               3                     66                   226   \n",
       "1               3                     66                   196   \n",
       "\n",
       "   orig_destination_distance  is_mobile  is_package  srch_adults_cnt  \\\n",
       "0                   749.7598          0           1                1   \n",
       "1                   152.9141          0           0                2   \n",
       "\n",
       "   srch_children_cnt  srch_rm_cnt  srch_destination_type_id  is_booking  \\\n",
       "0                  1            1                         1           0   \n",
       "1                  1            1                         1           0   \n",
       "\n",
       "   hotel_continent  hotel_country  hotel_market  hotel_cluster  \n",
       "0                2             50           675             69  \n",
       "1                2             50           694             25  "
      ]
     },
     "execution_count": 6,
     "metadata": {},
     "output_type": "execute_result"
    }
   ],
   "source": [
    "# Drop columns that will not be used in the initial modelling (might come back to them afterwards to apply more \n",
    "# sophisticated feature engineering)\n",
    "df_dropped = sample_clean.drop(columns_to_drop, axis=1)\n",
    "df_dropped.head(2)"
   ]
  },
  {
   "cell_type": "code",
   "execution_count": 7,
   "metadata": {
    "collapsed": false
   },
   "outputs": [
    {
     "data": {
      "text/html": [
       "<div>\n",
       "<table border=\"1\" class=\"dataframe\">\n",
       "  <thead>\n",
       "    <tr style=\"text-align: right;\">\n",
       "      <th></th>\n",
       "      <th>orig_destination_distance</th>\n",
       "      <th>is_mobile</th>\n",
       "      <th>is_package</th>\n",
       "      <th>srch_adults_cnt</th>\n",
       "      <th>srch_children_cnt</th>\n",
       "      <th>srch_rm_cnt</th>\n",
       "      <th>is_booking</th>\n",
       "      <th>hotel_cluster</th>\n",
       "      <th>posa_continent_0</th>\n",
       "      <th>posa_continent_1</th>\n",
       "      <th>...</th>\n",
       "      <th>hotel_market_2107</th>\n",
       "      <th>hotel_market_2108</th>\n",
       "      <th>hotel_market_2109</th>\n",
       "      <th>hotel_market_2110</th>\n",
       "      <th>hotel_market_2111</th>\n",
       "      <th>hotel_market_2112</th>\n",
       "      <th>hotel_market_2113</th>\n",
       "      <th>hotel_market_2115</th>\n",
       "      <th>hotel_market_2116</th>\n",
       "      <th>hotel_market_2117</th>\n",
       "    </tr>\n",
       "  </thead>\n",
       "  <tbody>\n",
       "    <tr>\n",
       "      <th>0</th>\n",
       "      <td>749.7598</td>\n",
       "      <td>0</td>\n",
       "      <td>1</td>\n",
       "      <td>1</td>\n",
       "      <td>1</td>\n",
       "      <td>1</td>\n",
       "      <td>0</td>\n",
       "      <td>69</td>\n",
       "      <td>0</td>\n",
       "      <td>0</td>\n",
       "      <td>...</td>\n",
       "      <td>0</td>\n",
       "      <td>0</td>\n",
       "      <td>0</td>\n",
       "      <td>0</td>\n",
       "      <td>0</td>\n",
       "      <td>0</td>\n",
       "      <td>0</td>\n",
       "      <td>0</td>\n",
       "      <td>0</td>\n",
       "      <td>0</td>\n",
       "    </tr>\n",
       "    <tr>\n",
       "      <th>1</th>\n",
       "      <td>152.9141</td>\n",
       "      <td>0</td>\n",
       "      <td>0</td>\n",
       "      <td>2</td>\n",
       "      <td>1</td>\n",
       "      <td>1</td>\n",
       "      <td>0</td>\n",
       "      <td>25</td>\n",
       "      <td>0</td>\n",
       "      <td>0</td>\n",
       "      <td>...</td>\n",
       "      <td>0</td>\n",
       "      <td>0</td>\n",
       "      <td>0</td>\n",
       "      <td>0</td>\n",
       "      <td>0</td>\n",
       "      <td>0</td>\n",
       "      <td>0</td>\n",
       "      <td>0</td>\n",
       "      <td>0</td>\n",
       "      <td>0</td>\n",
       "    </tr>\n",
       "  </tbody>\n",
       "</table>\n",
       "<p>2 rows × 2346 columns</p>\n",
       "</div>"
      ],
      "text/plain": [
       "   orig_destination_distance  is_mobile  is_package  srch_adults_cnt  \\\n",
       "0                   749.7598          0           1                1   \n",
       "1                   152.9141          0           0                2   \n",
       "\n",
       "   srch_children_cnt  srch_rm_cnt  is_booking  hotel_cluster  \\\n",
       "0                  1            1           0             69   \n",
       "1                  1            1           0             25   \n",
       "\n",
       "   posa_continent_0  posa_continent_1        ...          hotel_market_2107  \\\n",
       "0                 0                 0        ...                          0   \n",
       "1                 0                 0        ...                          0   \n",
       "\n",
       "   hotel_market_2108  hotel_market_2109  hotel_market_2110  hotel_market_2111  \\\n",
       "0                  0                  0                  0                  0   \n",
       "1                  0                  0                  0                  0   \n",
       "\n",
       "   hotel_market_2112  hotel_market_2113  hotel_market_2115  hotel_market_2116  \\\n",
       "0                  0                  0                  0                  0   \n",
       "1                  0                  0                  0                  0   \n",
       "\n",
       "   hotel_market_2117  \n",
       "0                  0  \n",
       "1                  0  \n",
       "\n",
       "[2 rows x 2346 columns]"
      ]
     },
     "execution_count": 7,
     "metadata": {},
     "output_type": "execute_result"
    }
   ],
   "source": [
    "# Create dummy columns and drop original feature columns.\n",
    "df_dropped_and_dummies = pd.get_dummies(df_dropped, columns=columns_to_dummies)\n",
    "df_dropped_and_dummies.head(2)"
   ]
  },
  {
   "cell_type": "code",
   "execution_count": null,
   "metadata": {
    "collapsed": true
   },
   "outputs": [],
   "source": [
    "#sample_clean['srch_co']=pd.to_datetime(sample_clean['srch_co'],format='%Y-%m-%d')\n",
    "#sample_clean['srch_ci']=pd.to_datetime(sample_clean['srch_ci'],format='%Y-%m-%d')\n",
    "#sample_clean['stay_lenght']= sample_clean['srch_co']-sample_clean['srch_ci']\n",
    "#sample_clean['stay_lenght']=sample_clean['stay_lenght'].dt.days"
   ]
  },
  {
   "cell_type": "markdown",
   "metadata": {},
   "source": [
    "# MODELS"
   ]
  },
  {
   "cell_type": "code",
   "execution_count": 8,
   "metadata": {
    "collapsed": false
   },
   "outputs": [
    {
     "name": "stderr",
     "output_type": "stream",
     "text": [
      "/Users/veronicabianchini/anaconda/lib/python2.7/site-packages/sklearn/cross_validation.py:44: DeprecationWarning: This module was deprecated in version 0.18 in favor of the model_selection module into which all the refactored classes and functions are moved. Also note that the interface of the new CV iterators are different from that of this module. This module will be removed in 0.20.\n",
      "  \"This module will be removed in 0.20.\", DeprecationWarning)\n",
      "/Users/veronicabianchini/anaconda/lib/python2.7/site-packages/sklearn/grid_search.py:43: DeprecationWarning: This module was deprecated in version 0.18 in favor of the model_selection module into which all the refactored classes and functions are moved. This module will be removed in 0.20.\n",
      "  DeprecationWarning)\n"
     ]
    }
   ],
   "source": [
    "#from sklearn import datasets, neighbors, metrics, grid_search, cross_validation, linear_model\n",
    "\n",
    "from sklearn.grid_search import GridSearchCV\n",
    "from sklearn import neighbors\n",
    "from sklearn import cross_validation\n",
    "from sklearn.linear_model import LogisticRegression\n",
    "from sklearn.model_selection import train_test_split\n",
    "from sklearn import grid_search\n",
    "from sklearn.metrics import accuracy_score, confusion_matrix"
   ]
  },
  {
   "cell_type": "markdown",
   "metadata": {},
   "source": [
    "### Strategy for modelling:\n",
    "\n",
    "Core:\n",
    "\n",
    "- Create train-test split on our cleaned dataset.\n",
    "- Calculate baseline model.\n",
    "- Fit simple logistic regression (with all its defaults) as a naive benchmark.\n",
    "- Asses different classification models.\n"
   ]
  },
  {
   "cell_type": "code",
   "execution_count": 33,
   "metadata": {
    "collapsed": true
   },
   "outputs": [],
   "source": [
    "X = df_dropped_and_dummies.drop([\"hotel_cluster\"], axis=1)\n",
    "y = df_dropped_and_dummies[\"hotel_cluster\"]\n",
    "X_train, X_test, y_train, y_test = train_test_split(X, y, test_size=0.33, random_state=42)"
   ]
  },
  {
   "cell_type": "code",
   "execution_count": 14,
   "metadata": {
    "collapsed": false
   },
   "outputs": [
    {
     "name": "stdout",
     "output_type": "stream",
     "text": [
      "(19139, 2346)\n",
      "(191385, 2346)\n"
     ]
    }
   ],
   "source": [
    "# For quickly debugging models we will take a smaller sample from our cleaned dataset.\n",
    "quick_df = df_dropped_and_dummies.sample(frac=0.1)\n",
    "print quick_df.shape\n",
    "print df_dropped_and_dummies.shape"
   ]
  },
  {
   "cell_type": "code",
   "execution_count": 15,
   "metadata": {
    "collapsed": false
   },
   "outputs": [],
   "source": [
    "# Create train test split.\n",
    "#X = quick_df.drop([\"hotel_cluster\"], axis=1)\n",
    "#y = quick_df[\"hotel_cluster\"]\n",
    "#X_train, X_test, y_train, y_test = train_test_split(X, y, test_size=0.33, random_state=42)"
   ]
  },
  {
   "cell_type": "markdown",
   "metadata": {},
   "source": [
    "### Baseline model\n",
    "\n",
    "Our first benchmark will be given by the accuracy of a model \"predicting\" the mayority class from our target variable."
   ]
  },
  {
   "cell_type": "code",
   "execution_count": 16,
   "metadata": {
    "collapsed": false
   },
   "outputs": [
    {
     "data": {
      "text/plain": [
       "19139"
      ]
     },
     "execution_count": 16,
     "metadata": {},
     "output_type": "execute_result"
    }
   ],
   "source": [
    " len(y)"
   ]
  },
  {
   "cell_type": "code",
   "execution_count": 17,
   "metadata": {
    "collapsed": false
   },
   "outputs": [
    {
     "data": {
      "text/plain": [
       "688"
      ]
     },
     "execution_count": 17,
     "metadata": {},
     "output_type": "execute_result"
    }
   ],
   "source": [
    "y.value_counts().max()"
   ]
  },
  {
   "cell_type": "code",
   "execution_count": 18,
   "metadata": {
    "collapsed": false
   },
   "outputs": [
    {
     "data": {
      "text/plain": [
       "91    688\n",
       "48    481\n",
       "41    461\n",
       "65    439\n",
       "18    321\n",
       "42    314\n",
       "98    311\n",
       "95    304\n",
       "16    303\n",
       "50    298\n",
       "Name: hotel_cluster, dtype: int64"
      ]
     },
     "execution_count": 18,
     "metadata": {},
     "output_type": "execute_result"
    }
   ],
   "source": [
    "y.value_counts()[:10]"
   ]
  },
  {
   "cell_type": "code",
   "execution_count": 19,
   "metadata": {
    "collapsed": false
   },
   "outputs": [
    {
     "name": "stdout",
     "output_type": "stream",
     "text": [
      "Our baseline accuracy is: 0.0359475416688\n"
     ]
    }
   ],
   "source": [
    "baseline_accuracy = float(y.value_counts()[91]) / len(y)\n",
    "print \"Our baseline accuracy is: \" + str(baseline_accuracy)"
   ]
  },
  {
   "cell_type": "markdown",
   "metadata": {},
   "source": [
    "### Logistic Regression"
   ]
  },
  {
   "cell_type": "code",
   "execution_count": 20,
   "metadata": {
    "collapsed": true
   },
   "outputs": [],
   "source": [
    "# We specify our model (we will later fit another one using gridsearch to optimize the hyperparameters)\n",
    "logit = LogisticRegression(multi_class=\"multinomial\", solver=\"lbfgs\")"
   ]
  },
  {
   "cell_type": "code",
   "execution_count": 23,
   "metadata": {
    "collapsed": false
   },
   "outputs": [],
   "source": [
    "# We train the model on our data.\n",
    "logit_fit = logit.fit(X=X_train, y=y_train)"
   ]
  },
  {
   "cell_type": "code",
   "execution_count": 24,
   "metadata": {
    "collapsed": false
   },
   "outputs": [],
   "source": [
    "y_predicted = logit_fit.predict(X=X_test)"
   ]
  },
  {
   "cell_type": "code",
   "execution_count": 25,
   "metadata": {
    "collapsed": false
   },
   "outputs": [
    {
     "name": "stdout",
     "output_type": "stream",
     "text": [
      "0.0617479417353\n"
     ]
    }
   ],
   "source": [
    "# We calculate our out of sample or test accuracy\n",
    "print accuracy_score(y_pred=y_predicted, y_true=y_test)"
   ]
  },
  {
   "cell_type": "markdown",
   "metadata": {},
   "source": [
    "## - Desition Tree & Random Forest:"
   ]
  },
  {
   "cell_type": "code",
   "execution_count": 37,
   "metadata": {
    "collapsed": false
   },
   "outputs": [
    {
     "data": {
      "text/plain": [
       "DecisionTreeClassifier(class_weight=None, criterion='gini', max_depth=10,\n",
       "            max_features=None, max_leaf_nodes=None,\n",
       "            min_impurity_split=1e-07, min_samples_leaf=1,\n",
       "            min_samples_split=2, min_weight_fraction_leaf=0.0,\n",
       "            presort=False, random_state=None, splitter='best')"
      ]
     },
     "execution_count": 37,
     "metadata": {},
     "output_type": "execute_result"
    }
   ],
   "source": [
    "from sklearn.tree import DecisionTreeClassifier\n",
    "\n",
    "DT_model = DecisionTreeClassifier (max_depth=10)\n",
    "\n",
    "X = X_train\n",
    "y = y_train    \n",
    "    \n",
    "# Fits the model\n",
    "DT_model.fit(X, y)"
   ]
  },
  {
   "cell_type": "code",
   "execution_count": 38,
   "metadata": {
    "collapsed": true
   },
   "outputs": [],
   "source": [
    "y_predicted_DT = DT_model.predict(X=X_test)"
   ]
  },
  {
   "cell_type": "code",
   "execution_count": 41,
   "metadata": {
    "collapsed": false
   },
   "outputs": [
    {
     "name": "stdout",
     "output_type": "stream",
     "text": [
      "0.107618987302\n"
     ]
    }
   ],
   "source": [
    "# We calculate our out of sample or test accuracy\n",
    "print accuracy_score(y_pred=y_predicted_DT, y_true=y_test)"
   ]
  },
  {
   "cell_type": "code",
   "execution_count": 65,
   "metadata": {
    "collapsed": false
   },
   "outputs": [
    {
     "name": "stdout",
     "output_type": "stream",
     "text": [
      "[mean: 0.12453, std: 0.00178, params: {'n_estimators': 100, 'max_depth': 30}, mean: 0.12552, std: 0.00168, params: {'n_estimators': 200, 'max_depth': 30}, mean: 0.11171, std: 0.00124, params: {'n_estimators': 100, 'max_depth': 50}, mean: 0.11262, std: 0.00211, params: {'n_estimators': 200, 'max_depth': 50}]\n",
      "0.125519586359\n",
      "RandomForestClassifier(bootstrap=True, class_weight=None, criterion='gini',\n",
      "            max_depth=30, max_features='auto', max_leaf_nodes=None,\n",
      "            min_impurity_split=1e-07, min_samples_leaf=1,\n",
      "            min_samples_split=2, min_weight_fraction_leaf=0.0,\n",
      "            n_estimators=200, n_jobs=1, oob_score=False, random_state=None,\n",
      "            verbose=0, warm_start=False)\n"
     ]
    }
   ],
   "source": [
    "DT= DecisionTreeClassifier()\n",
    "param_grid = {'max_depth': [10, 20,30,40,50]}\n",
    "\n",
    "grid_DT = grid_search.GridSearchCV(DT, param_grid, cv=10)\n",
    "grid_DT.fit(X_train, y_train)\n",
    "\n",
    "print grid_RF.grid_scores_\n",
    "print grid_RF.best_score_ # mean squared error here comes in negative, so let's make it positive.\n",
    "print grid_RF.best_estimator_"
   ]
  },
  {
   "cell_type": "markdown",
   "metadata": {},
   "source": [
    "What about overfitting? Can I improve my model even further by using Random Forests instead of Decision Trees?"
   ]
  },
  {
   "cell_type": "markdown",
   "metadata": {},
   "source": [
    "### Random Forest"
   ]
  },
  {
   "cell_type": "code",
   "execution_count": 42,
   "metadata": {
    "collapsed": false
   },
   "outputs": [
    {
     "name": "stderr",
     "output_type": "stream",
     "text": [
      "/Users/veronicabianchini/anaconda/lib/python2.7/site-packages/sklearn/ensemble/forest.py:439: UserWarning: Some inputs do not have OOB scores. This probably means too few trees were used to compute any reliable oob estimates.\n",
      "  warn(\"Some inputs do not have OOB scores. \"\n",
      "/Users/veronicabianchini/anaconda/lib/python2.7/site-packages/sklearn/ensemble/forest.py:444: RuntimeWarning: invalid value encountered in true_divide\n",
      "  predictions[k].sum(axis=1)[:, np.newaxis])\n"
     ]
    },
    {
     "data": {
      "text/plain": [
       "RandomForestClassifier(bootstrap=True, class_weight=None, criterion='gini',\n",
       "            max_depth=None, max_features='auto', max_leaf_nodes=None,\n",
       "            min_impurity_split=1e-07, min_samples_leaf=1,\n",
       "            min_samples_split=2, min_weight_fraction_leaf=0.0,\n",
       "            n_estimators=20, n_jobs=1, oob_score=True, random_state=None,\n",
       "            verbose=0, warm_start=False)"
      ]
     },
     "execution_count": 42,
     "metadata": {},
     "output_type": "execute_result"
    }
   ],
   "source": [
    "from sklearn.ensemble import RandomForestClassifier\n",
    "\n",
    "RF_model = RandomForestClassifier(n_estimators = 20, oob_score= True)\n",
    "    \n",
    "RF_model.fit(X, y)"
   ]
  },
  {
   "cell_type": "code",
   "execution_count": 43,
   "metadata": {
    "collapsed": false
   },
   "outputs": [
    {
     "data": {
      "text/plain": [
       "0.094176733449273548"
      ]
     },
     "execution_count": 43,
     "metadata": {},
     "output_type": "execute_result"
    }
   ],
   "source": [
    "RF_model.oob_score_ "
   ]
  },
  {
   "cell_type": "markdown",
   "metadata": {},
   "source": [
    "My first try is not much better than the Decision Tree. I'll try different parameters through Cross validation."
   ]
  },
  {
   "cell_type": "code",
   "execution_count": 46,
   "metadata": {
    "collapsed": true
   },
   "outputs": [],
   "source": [
    "from sklearn.cross_validation import cross_val_score"
   ]
  },
  {
   "cell_type": "code",
   "execution_count": 53,
   "metadata": {
    "collapsed": false
   },
   "outputs": [
    {
     "name": "stdout",
     "output_type": "stream",
     "text": [
      "[mean: 0.11895, std: 0.00198, params: {'n_estimators': 60, 'max_depth': 20}, mean: 0.11955, std: 0.00182, params: {'n_estimators': 70, 'max_depth': 20}, mean: 0.12291, std: 0.00139, params: {'n_estimators': 60, 'max_depth': 30}, mean: 0.12387, std: 0.00177, params: {'n_estimators': 70, 'max_depth': 30}]\n",
      "0.123874067084\n",
      "RandomForestClassifier(bootstrap=True, class_weight=None, criterion='gini',\n",
      "            max_depth=30, max_features='auto', max_leaf_nodes=None,\n",
      "            min_impurity_split=1e-07, min_samples_leaf=1,\n",
      "            min_samples_split=2, min_weight_fraction_leaf=0.0,\n",
      "            n_estimators=70, n_jobs=1, oob_score=False, random_state=None,\n",
      "            verbose=0, warm_start=False)\n"
     ]
    }
   ],
   "source": [
    "RF= RandomForestClassifier()\n",
    "param_grid = {\n",
    "                 'n_estimators': [100, 200],\n",
    "                 'max_depth': [30, 50]\n",
    "             }\n",
    "\n",
    "grid_RF = grid_search.GridSearchCV(RF, param_grid, cv=10)\n",
    "grid_RF.fit(X_train, y_train)\n",
    "\n",
    "print grid_RF.grid_scores_\n",
    "print grid_RF.best_score_ # mean squared error here comes in negative, so let's make it positive.\n",
    "print grid_RF.best_estimator_"
   ]
  },
  {
   "cell_type": "code",
   "execution_count": 54,
   "metadata": {
    "collapsed": false
   },
   "outputs": [
    {
     "name": "stdout",
     "output_type": "stream",
     "text": [
      "[mean: 0.12453, std: 0.00178, params: {'n_estimators': 100, 'max_depth': 30}, mean: 0.12552, std: 0.00168, params: {'n_estimators': 200, 'max_depth': 30}, mean: 0.11171, std: 0.00124, params: {'n_estimators': 100, 'max_depth': 50}, mean: 0.11262, std: 0.00211, params: {'n_estimators': 200, 'max_depth': 50}]\n",
      "0.125519586359\n",
      "RandomForestClassifier(bootstrap=True, class_weight=None, criterion='gini',\n",
      "            max_depth=30, max_features='auto', max_leaf_nodes=None,\n",
      "            min_impurity_split=1e-07, min_samples_leaf=1,\n",
      "            min_samples_split=2, min_weight_fraction_leaf=0.0,\n",
      "            n_estimators=200, n_jobs=1, oob_score=False, random_state=None,\n",
      "            verbose=0, warm_start=False)\n"
     ]
    }
   ],
   "source": [
    "RF= RandomForestClassifier()\n",
    "param_grid = {\n",
    "                 'n_estimators': [100, 200],\n",
    "                 'max_depth': [30, 50]\n",
    "             }\n",
    "\n",
    "grid_RF = grid_search.GridSearchCV(RF, param_grid, cv=10)\n",
    "grid_RF.fit(X_train, y_train)\n",
    "\n",
    "print grid_RF.grid_scores_\n",
    "print grid_RF.best_score_ \n",
    "print grid_RF.best_estimator_"
   ]
  },
  {
   "cell_type": "markdown",
   "metadata": {},
   "source": [
    "**I've reached the same \"best result\" as with the Decision Tree: 0.125519586359. This is achieved by using 200 estimators with a 30 nodes depth. \n",
    "There is probably a better result out there, but each try takes hrs to run. **"
   ]
  },
  {
   "cell_type": "code",
   "execution_count": 64,
   "metadata": {
    "collapsed": false
   },
   "outputs": [
    {
     "name": "stdout",
     "output_type": "stream",
     "text": [
      "                        Features  Importance Score\n",
      "0      orig_destination_distance          0.229070\n",
      "3                srch_adults_cnt          0.060068\n",
      "4              srch_children_cnt          0.047505\n",
      "1031            hotel_market_628          0.029863\n",
      "2                     is_package          0.029744\n",
      "1                      is_mobile          0.027005\n",
      "241   srch_destination_type_id_1          0.021183\n",
      "5                    srch_rm_cnt          0.020164\n",
      "245   srch_destination_type_id_6          0.018114\n",
      "6                     is_booking          0.017440\n",
      "1078            hotel_market_675          0.014203\n",
      "251            hotel_continent_2          0.013086\n",
      "253            hotel_continent_4          0.012617\n",
      "263              hotel_country_8          0.012054\n",
      "299             hotel_country_50          0.011672\n",
      "242   srch_destination_type_id_3          0.009120\n",
      "244   srch_destination_type_id_5          0.008655\n",
      "56      user_location_region_174          0.008199\n",
      "1846           hotel_market_1503          0.008117\n",
      "20      user_location_country_66          0.006939\n",
      "541             hotel_market_110          0.006930\n",
      "393            hotel_country_163          0.006607\n",
      "131     user_location_region_348          0.006484\n",
      "10              posa_continent_3          0.006012\n",
      "243   srch_destination_type_id_4          0.005723\n",
      "27     user_location_country_205          0.005521\n",
      "134     user_location_region_354          0.005470\n",
      "193     user_location_region_442          0.005430\n",
      "206     user_location_region_462          0.005403\n",
      "255            hotel_continent_6          0.005382\n",
      "...                          ...               ...\n",
      "2232           hotel_market_1966          0.000000\n",
      "2233           hotel_market_1968          0.000000\n",
      "1725           hotel_market_1371          0.000000\n",
      "2196           hotel_market_1920          0.000000\n",
      "1250            hotel_market_855          0.000000\n",
      "1773           hotel_market_1425          0.000000\n",
      "1830           hotel_market_1487          0.000000\n",
      "945             hotel_market_542          0.000000\n",
      "1855           hotel_market_1513          0.000000\n",
      "684             hotel_market_263          0.000000\n",
      "1262            hotel_market_867          0.000000\n",
      "958             hotel_market_555          0.000000\n",
      "1440           hotel_market_1051          0.000000\n",
      "1280            hotel_market_885          0.000000\n",
      "284             hotel_country_30          0.000000\n",
      "1281            hotel_market_886          0.000000\n",
      "1260            hotel_market_865          0.000000\n",
      "978             hotel_market_575          0.000000\n",
      "1554           hotel_market_1175          0.000000\n",
      "1434           hotel_market_1044          0.000000\n",
      "1538           hotel_market_1157          0.000000\n",
      "2170           hotel_market_1893          0.000000\n",
      "1255            hotel_market_860          0.000000\n",
      "2004           hotel_market_1693          0.000000\n",
      "1025            hotel_market_622          0.000000\n",
      "1291            hotel_market_896          0.000000\n",
      "1253            hotel_market_858          0.000000\n",
      "2185           hotel_market_1909          0.000000\n",
      "1549           hotel_market_1170          0.000000\n",
      "1974           hotel_market_1651          0.000000\n",
      "\n",
      "[2345 rows x 2 columns]\n"
     ]
    }
   ],
   "source": [
    "#Which are my most important features?\n",
    "features = X.columns\n",
    "feature_importances = grid_RF.best_estimator_.feature_importances_\n",
    "features_df = pd.DataFrame({'Features': features, 'Importance Score': feature_importances})\n",
    "features_df.sort_values('Importance Score', inplace=True, ascending=False)\n",
    "print features_df"
   ]
  },
  {
   "cell_type": "markdown",
   "metadata": {},
   "source": [
    "Since my most important feature is 'orig_destination_distance' (the one with a lot of missing values), doing something better than dropping those rows could improve my model."
   ]
  },
  {
   "cell_type": "markdown",
   "metadata": {},
   "source": [
    "# Knn\n",
    "\n",
    "- For Knn we need to first standarize our feature matrix, otherwise the different scales of our features will affect the learning of the mode."
   ]
  },
  {
   "cell_type": "code",
   "execution_count": 87,
   "metadata": {
    "collapsed": false
   },
   "outputs": [],
   "source": [
    "from sklearn import preprocessing\n",
    "from sklearn.neighbors import KNeighborsClassifier"
   ]
  },
  {
   "cell_type": "code",
   "execution_count": 72,
   "metadata": {
    "collapsed": true
   },
   "outputs": [],
   "source": [
    "X = df_dropped_and_dummies.drop([\"hotel_cluster\"], axis=1)\n",
    "y = df_dropped_and_dummies[\"hotel_cluster\"]\n",
    "X_train, X_test, y_train, y_test = train_test_split(X, y, test_size=0.33, random_state=42)"
   ]
  },
  {
   "cell_type": "code",
   "execution_count": 73,
   "metadata": {
    "collapsed": true
   },
   "outputs": [],
   "source": [
    "# Define preprocessor\n",
    "scaler = preprocessing.StandardScaler()"
   ]
  },
  {
   "cell_type": "code",
   "execution_count": 74,
   "metadata": {
    "collapsed": true
   },
   "outputs": [],
   "source": [
    "# Fit preprocessor\n",
    "scaled_x = scaler.fit_transform(X)"
   ]
  },
  {
   "cell_type": "code",
   "execution_count": 75,
   "metadata": {
    "collapsed": false
   },
   "outputs": [],
   "source": [
    "scaled_X= pd.DataFrame(scaled_x, index=X.index, columns=X.columns)"
   ]
  },
  {
   "cell_type": "code",
   "execution_count": 76,
   "metadata": {
    "collapsed": false
   },
   "outputs": [
    {
     "data": {
      "text/html": [
       "<div>\n",
       "<table border=\"1\" class=\"dataframe\">\n",
       "  <thead>\n",
       "    <tr style=\"text-align: right;\">\n",
       "      <th></th>\n",
       "      <th>orig_destination_distance</th>\n",
       "      <th>is_mobile</th>\n",
       "      <th>is_package</th>\n",
       "      <th>srch_adults_cnt</th>\n",
       "      <th>srch_children_cnt</th>\n",
       "      <th>srch_rm_cnt</th>\n",
       "      <th>is_booking</th>\n",
       "      <th>posa_continent_0</th>\n",
       "      <th>posa_continent_1</th>\n",
       "      <th>posa_continent_2</th>\n",
       "      <th>...</th>\n",
       "      <th>hotel_market_2107</th>\n",
       "      <th>hotel_market_2108</th>\n",
       "      <th>hotel_market_2109</th>\n",
       "      <th>hotel_market_2110</th>\n",
       "      <th>hotel_market_2111</th>\n",
       "      <th>hotel_market_2112</th>\n",
       "      <th>hotel_market_2113</th>\n",
       "      <th>hotel_market_2115</th>\n",
       "      <th>hotel_market_2116</th>\n",
       "      <th>hotel_market_2117</th>\n",
       "    </tr>\n",
       "  </thead>\n",
       "  <tbody>\n",
       "    <tr>\n",
       "      <th>0</th>\n",
       "      <td>-0.547293</td>\n",
       "      <td>-0.395410</td>\n",
       "      <td>1.760240</td>\n",
       "      <td>-1.153843</td>\n",
       "      <td>0.863504</td>\n",
       "      <td>-0.240598</td>\n",
       "      <td>-0.298897</td>\n",
       "      <td>-0.090184</td>\n",
       "      <td>-0.228907</td>\n",
       "      <td>-0.071962</td>\n",
       "      <td>...</td>\n",
       "      <td>-0.007581</td>\n",
       "      <td>-0.004572</td>\n",
       "      <td>-0.002286</td>\n",
       "      <td>-0.003233</td>\n",
       "      <td>-0.014816</td>\n",
       "      <td>-0.003959</td>\n",
       "      <td>-0.005111</td>\n",
       "      <td>-0.002286</td>\n",
       "      <td>-0.004572</td>\n",
       "      <td>-0.012728</td>\n",
       "    </tr>\n",
       "    <tr>\n",
       "      <th>1</th>\n",
       "      <td>-0.813717</td>\n",
       "      <td>-0.395410</td>\n",
       "      <td>-0.568105</td>\n",
       "      <td>-0.042304</td>\n",
       "      <td>0.863504</td>\n",
       "      <td>-0.240598</td>\n",
       "      <td>-0.298897</td>\n",
       "      <td>-0.090184</td>\n",
       "      <td>-0.228907</td>\n",
       "      <td>-0.071962</td>\n",
       "      <td>...</td>\n",
       "      <td>-0.007581</td>\n",
       "      <td>-0.004572</td>\n",
       "      <td>-0.002286</td>\n",
       "      <td>-0.003233</td>\n",
       "      <td>-0.014816</td>\n",
       "      <td>-0.003959</td>\n",
       "      <td>-0.005111</td>\n",
       "      <td>-0.002286</td>\n",
       "      <td>-0.004572</td>\n",
       "      <td>-0.012728</td>\n",
       "    </tr>\n",
       "    <tr>\n",
       "      <th>2</th>\n",
       "      <td>-0.726792</td>\n",
       "      <td>-0.395410</td>\n",
       "      <td>-0.568105</td>\n",
       "      <td>-1.153843</td>\n",
       "      <td>-0.462090</td>\n",
       "      <td>-0.240598</td>\n",
       "      <td>-0.298897</td>\n",
       "      <td>-0.090184</td>\n",
       "      <td>-0.228907</td>\n",
       "      <td>-0.071962</td>\n",
       "      <td>...</td>\n",
       "      <td>-0.007581</td>\n",
       "      <td>-0.004572</td>\n",
       "      <td>-0.002286</td>\n",
       "      <td>-0.003233</td>\n",
       "      <td>-0.014816</td>\n",
       "      <td>-0.003959</td>\n",
       "      <td>-0.005111</td>\n",
       "      <td>-0.002286</td>\n",
       "      <td>-0.004572</td>\n",
       "      <td>-0.012728</td>\n",
       "    </tr>\n",
       "    <tr>\n",
       "      <th>3</th>\n",
       "      <td>0.214003</td>\n",
       "      <td>-0.395410</td>\n",
       "      <td>-0.568105</td>\n",
       "      <td>-1.153843</td>\n",
       "      <td>-0.462090</td>\n",
       "      <td>-0.240598</td>\n",
       "      <td>-0.298897</td>\n",
       "      <td>-0.090184</td>\n",
       "      <td>-0.228907</td>\n",
       "      <td>-0.071962</td>\n",
       "      <td>...</td>\n",
       "      <td>-0.007581</td>\n",
       "      <td>-0.004572</td>\n",
       "      <td>-0.002286</td>\n",
       "      <td>-0.003233</td>\n",
       "      <td>-0.014816</td>\n",
       "      <td>-0.003959</td>\n",
       "      <td>-0.005111</td>\n",
       "      <td>-0.002286</td>\n",
       "      <td>-0.004572</td>\n",
       "      <td>-0.012728</td>\n",
       "    </tr>\n",
       "    <tr>\n",
       "      <th>4</th>\n",
       "      <td>-0.393925</td>\n",
       "      <td>2.529022</td>\n",
       "      <td>-0.568105</td>\n",
       "      <td>-1.153843</td>\n",
       "      <td>-0.462090</td>\n",
       "      <td>-0.240598</td>\n",
       "      <td>-0.298897</td>\n",
       "      <td>-0.090184</td>\n",
       "      <td>-0.228907</td>\n",
       "      <td>-0.071962</td>\n",
       "      <td>...</td>\n",
       "      <td>-0.007581</td>\n",
       "      <td>-0.004572</td>\n",
       "      <td>-0.002286</td>\n",
       "      <td>-0.003233</td>\n",
       "      <td>-0.014816</td>\n",
       "      <td>-0.003959</td>\n",
       "      <td>-0.005111</td>\n",
       "      <td>-0.002286</td>\n",
       "      <td>-0.004572</td>\n",
       "      <td>-0.012728</td>\n",
       "    </tr>\n",
       "  </tbody>\n",
       "</table>\n",
       "<p>5 rows × 2345 columns</p>\n",
       "</div>"
      ],
      "text/plain": [
       "   orig_destination_distance  is_mobile  is_package  srch_adults_cnt  \\\n",
       "0                  -0.547293  -0.395410    1.760240        -1.153843   \n",
       "1                  -0.813717  -0.395410   -0.568105        -0.042304   \n",
       "2                  -0.726792  -0.395410   -0.568105        -1.153843   \n",
       "3                   0.214003  -0.395410   -0.568105        -1.153843   \n",
       "4                  -0.393925   2.529022   -0.568105        -1.153843   \n",
       "\n",
       "   srch_children_cnt  srch_rm_cnt  is_booking  posa_continent_0  \\\n",
       "0           0.863504    -0.240598   -0.298897         -0.090184   \n",
       "1           0.863504    -0.240598   -0.298897         -0.090184   \n",
       "2          -0.462090    -0.240598   -0.298897         -0.090184   \n",
       "3          -0.462090    -0.240598   -0.298897         -0.090184   \n",
       "4          -0.462090    -0.240598   -0.298897         -0.090184   \n",
       "\n",
       "   posa_continent_1  posa_continent_2        ...          hotel_market_2107  \\\n",
       "0         -0.228907         -0.071962        ...                  -0.007581   \n",
       "1         -0.228907         -0.071962        ...                  -0.007581   \n",
       "2         -0.228907         -0.071962        ...                  -0.007581   \n",
       "3         -0.228907         -0.071962        ...                  -0.007581   \n",
       "4         -0.228907         -0.071962        ...                  -0.007581   \n",
       "\n",
       "   hotel_market_2108  hotel_market_2109  hotel_market_2110  hotel_market_2111  \\\n",
       "0          -0.004572          -0.002286          -0.003233          -0.014816   \n",
       "1          -0.004572          -0.002286          -0.003233          -0.014816   \n",
       "2          -0.004572          -0.002286          -0.003233          -0.014816   \n",
       "3          -0.004572          -0.002286          -0.003233          -0.014816   \n",
       "4          -0.004572          -0.002286          -0.003233          -0.014816   \n",
       "\n",
       "   hotel_market_2112  hotel_market_2113  hotel_market_2115  hotel_market_2116  \\\n",
       "0          -0.003959          -0.005111          -0.002286          -0.004572   \n",
       "1          -0.003959          -0.005111          -0.002286          -0.004572   \n",
       "2          -0.003959          -0.005111          -0.002286          -0.004572   \n",
       "3          -0.003959          -0.005111          -0.002286          -0.004572   \n",
       "4          -0.003959          -0.005111          -0.002286          -0.004572   \n",
       "\n",
       "   hotel_market_2117  \n",
       "0          -0.012728  \n",
       "1          -0.012728  \n",
       "2          -0.012728  \n",
       "3          -0.012728  \n",
       "4          -0.012728  \n",
       "\n",
       "[5 rows x 2345 columns]"
      ]
     },
     "execution_count": 76,
     "metadata": {},
     "output_type": "execute_result"
    }
   ],
   "source": [
    "scaled_X.head()"
   ]
  },
  {
   "cell_type": "code",
   "execution_count": 79,
   "metadata": {
    "collapsed": false
   },
   "outputs": [
    {
     "name": "stderr",
     "output_type": "stream",
     "text": [
      "/Users/veronicabianchini/anaconda/lib/python2.7/site-packages/sklearn/preprocessing/data.py:586: DeprecationWarning: Passing 1d arrays as data is deprecated in 0.17 and will raise ValueError in 0.19. Reshape your data either using X.reshape(-1, 1) if your data has a single feature or X.reshape(1, -1) if it contains a single sample.\n",
      "  warnings.warn(DEPRECATION_MSG_1D, DeprecationWarning)\n",
      "/Users/veronicabianchini/anaconda/lib/python2.7/site-packages/sklearn/preprocessing/data.py:649: DeprecationWarning: Passing 1d arrays as data is deprecated in 0.17 and will raise ValueError in 0.19. Reshape your data either using X.reshape(-1, 1) if your data has a single feature or X.reshape(1, -1) if it contains a single sample.\n",
      "  warnings.warn(DEPRECATION_MSG_1D, DeprecationWarning)\n"
     ]
    }
   ],
   "source": [
    "scaled_y= scaler.fit_transform(y)\n",
    "scaled_y= pd.DataFrame(scaled_y, index=y.index)"
   ]
  },
  {
   "cell_type": "code",
   "execution_count": 80,
   "metadata": {
    "collapsed": false
   },
   "outputs": [],
   "source": [
    "X_train, X_test, y_train, y_test = train_test_split(scaled_X, y, test_size=0.33, random_state=42)"
   ]
  },
  {
   "cell_type": "code",
   "execution_count": 88,
   "metadata": {
    "collapsed": false
   },
   "outputs": [],
   "source": [
    "knn= KNeighborsClassifier(n_neighbors=50, weights='uniform')"
   ]
  },
  {
   "cell_type": "code",
   "execution_count": null,
   "metadata": {
    "collapsed": true
   },
   "outputs": [],
   "source": [
    "knn_fit= knn.fit(X=X_train, y=y_train)"
   ]
  },
  {
   "cell_type": "code",
   "execution_count": null,
   "metadata": {
    "collapsed": true
   },
   "outputs": [],
   "source": [
    "y_predicted_knn = knn_fit.predict(X=X_test)"
   ]
  },
  {
   "cell_type": "code",
   "execution_count": null,
   "metadata": {
    "collapsed": false
   },
   "outputs": [],
   "source": [
    "# We calculate our out of sample or test accuracy\n",
    "print accuracy_score(y_pred=y_predicted_knn, y_true=y_test)"
   ]
  },
  {
   "cell_type": "code",
   "execution_count": null,
   "metadata": {
    "collapsed": false
   },
   "outputs": [],
   "source": [
    "kf = cross_validation.KFold(len(X), n_folds = 3 ,shuffle= True)\n",
    "params= np.arange(30,60,10)\n",
    "gs = grid_search.GridSearchCV(\n",
    "    estimator=neighbors.KNeighborsClassifier(),\n",
    "    param_grid={\n",
    "        'n_neighbors':params,\n",
    "        #'weights' : ['distance','uniform']},\n",
    "    cv=kf\n",
    ")\n",
    "gs.fit(X, y)\n",
    "\n",
    "print gs.grid_scores_\n",
    "print gs.best_score_ # mean squared error here comes in negative, so let's make it positive.\n",
    "print gs.best_estimator_ # explains which grid_search setup worked best\n"
   ]
  },
  {
   "cell_type": "markdown",
   "metadata": {},
   "source": [
    "Problem: Knn takes too long to run due to number of columns of my dataset"
   ]
  },
  {
   "cell_type": "markdown",
   "metadata": {},
   "source": [
    "## Conclusions:\n",
    "\n",
    "The Expedia dataset had the following challenges:\n",
    "\n",
    "- Expedia's dataset was very large to analyse as it was\n",
    "- There was also a very large number of missing values, most of them present in a single feature ('orig_destination_distance' ).\n",
    "- Most of the features were categorical, with very large number of categories. To manage them correctly, we would have needed to create more than 2000 dummies!\n",
    "- Dates were not recorded using a consistent method, mixing 'm-d-y' with 'd-m-y' formats. This produced inconsistent results when trying to create a feature called 'stay_length' (not shown in the final output)\n",
    "\n",
    "How did I tackle this issues?\n",
    "\n",
    "- I created a sample of the dataset, to be able to handle it.\n",
    "- I dropped the missing values, as a starting point\n",
    "- I created dummies, but dropped the one with the most values (user_location_city)\n",
    "- I did not have time to create the stay_lengh variable, but this could be a following step\n",
    "\n",
    "Results:\n",
    "\n",
    "- My best predicting model reached a 12.5% accuracy. This is a large increase over the baseline (3.5%) and the logistic regression (6.2%). \n",
    "- There is potential for growth using the same features and models, by allowing the Random Forest to create more trees, yet I lack the computer power to calculate that. "
   ]
  },
  {
   "cell_type": "markdown",
   "metadata": {},
   "source": [
    "# Next Steps:\n",
    "\n",
    "The path is open to do several things that might improve my model:\n",
    "\n",
    "- Using tools that allow me to devote more computing power to run models I was not able to run (Random Forest with +200 trees, KNN).\n",
    "- Same computing power might be used to work with a larger sample or the whole dataset. Yet we believe that the improvement should not be dramatic (considering we have a robust sample).\n",
    "- Several things can be improved in the handling the features themselves: \n",
    "   - Since the top preicting feature in the Random Forest was 'orig_destination_distance', the feature with the most missing cases, finding a better way to handle these NaN migh greatly improve our results (eg, imputing mean values).\n",
    "   - Another feature that could enhance the explanatory powe of our model is the constructed 'stay_lenght'. Resolving the issues with date format and including the new feature in our analysis could result in improvement. \n",
    "   - Finding a way to incorporate 'user_location_city' in our model may also improve results\n",
    "   - Finally, there could be other original ways to classify searches: where they booking for the summer time or winter? To unlock this feature we would need further information on how each region is classified (number to region), something we do not have.\n",
    "- Additional time and resources is reccomended to improve the model."
   ]
  },
  {
   "cell_type": "code",
   "execution_count": 3,
   "metadata": {
    "collapsed": false
   },
   "outputs": [],
   "source": [
    "EXPEDIA_FOLDER = \"/Users/veronicabianchini/Documents/GA-Data Science/Expedia Project/\"\n",
    "sample= pd.read_csv(EXPEDIA_FOLDER+\"sampled_df_2017-05-06-13-59-14.csv\")"
   ]
  },
  {
   "cell_type": "code",
   "execution_count": 4,
   "metadata": {
    "collapsed": false
   },
   "outputs": [
    {
     "data": {
      "text/plain": [
       "(300100, 25)"
      ]
     },
     "execution_count": 4,
     "metadata": {},
     "output_type": "execute_result"
    }
   ],
   "source": [
    "sample.shape"
   ]
  },
  {
   "cell_type": "code",
   "execution_count": 5,
   "metadata": {
    "collapsed": false
   },
   "outputs": [],
   "source": [
    "sample['orig_destination_distance'].fillna(sample.mean()['orig_destination_distance'], inplace=True)\n"
   ]
  },
  {
   "cell_type": "code",
   "execution_count": 6,
   "metadata": {
    "collapsed": false
   },
   "outputs": [
    {
     "data": {
      "text/plain": [
       "Unnamed: 0                     0\n",
       "date_time                      0\n",
       "site_name                      0\n",
       "posa_continent                 0\n",
       "user_location_country          0\n",
       "user_location_region           0\n",
       "user_location_city             0\n",
       "orig_destination_distance      0\n",
       "user_id                        0\n",
       "is_mobile                      0\n",
       "is_package                     0\n",
       "channel                        0\n",
       "srch_ci                      397\n",
       "srch_co                      397\n",
       "srch_adults_cnt                0\n",
       "srch_children_cnt              0\n",
       "srch_rm_cnt                    0\n",
       "srch_destination_id            0\n",
       "srch_destination_type_id       0\n",
       "is_booking                     0\n",
       "cnt                            0\n",
       "hotel_continent                0\n",
       "hotel_country                  0\n",
       "hotel_market                   0\n",
       "hotel_cluster                  0\n",
       "dtype: int64"
      ]
     },
     "execution_count": 6,
     "metadata": {},
     "output_type": "execute_result"
    }
   ],
   "source": [
    "sample.apply(lambda x: sum(x.isnull().values), axis = 0) \n"
   ]
  },
  {
   "cell_type": "code",
   "execution_count": 7,
   "metadata": {
    "collapsed": true
   },
   "outputs": [],
   "source": [
    "clean_sample2=sample.dropna()"
   ]
  },
  {
   "cell_type": "code",
   "execution_count": 8,
   "metadata": {
    "collapsed": false
   },
   "outputs": [],
   "source": [
    "from pandas import to_datetime"
   ]
  },
  {
   "cell_type": "code",
   "execution_count": 9,
   "metadata": {
    "collapsed": false
   },
   "outputs": [
    {
     "name": "stderr",
     "output_type": "stream",
     "text": [
      "/Users/veronicabianchini/anaconda/lib/python2.7/site-packages/ipykernel/__main__.py:1: SettingWithCopyWarning: \n",
      "A value is trying to be set on a copy of a slice from a DataFrame.\n",
      "Try using .loc[row_indexer,col_indexer] = value instead\n",
      "\n",
      "See the caveats in the documentation: http://pandas.pydata.org/pandas-docs/stable/indexing.html#indexing-view-versus-copy\n",
      "  if __name__ == '__main__':\n"
     ]
    }
   ],
   "source": [
    "clean_sample2['srch_co2']=pd.to_datetime(clean_sample2['srch_co'],format='%Y-%m-%d')"
   ]
  },
  {
   "cell_type": "code",
   "execution_count": 10,
   "metadata": {
    "collapsed": false
   },
   "outputs": [
    {
     "name": "stderr",
     "output_type": "stream",
     "text": [
      "/Users/veronicabianchini/anaconda/lib/python2.7/site-packages/ipykernel/__main__.py:1: SettingWithCopyWarning: \n",
      "A value is trying to be set on a copy of a slice from a DataFrame.\n",
      "Try using .loc[row_indexer,col_indexer] = value instead\n",
      "\n",
      "See the caveats in the documentation: http://pandas.pydata.org/pandas-docs/stable/indexing.html#indexing-view-versus-copy\n",
      "  if __name__ == '__main__':\n"
     ]
    }
   ],
   "source": [
    "clean_sample2['srch_ci2']=pd.to_datetime(clean_sample2['srch_ci'],format='%Y-%m-%d')"
   ]
  },
  {
   "cell_type": "code",
   "execution_count": 11,
   "metadata": {
    "collapsed": false
   },
   "outputs": [
    {
     "name": "stderr",
     "output_type": "stream",
     "text": [
      "/Users/veronicabianchini/anaconda/lib/python2.7/site-packages/ipykernel/__main__.py:1: SettingWithCopyWarning: \n",
      "A value is trying to be set on a copy of a slice from a DataFrame.\n",
      "Try using .loc[row_indexer,col_indexer] = value instead\n",
      "\n",
      "See the caveats in the documentation: http://pandas.pydata.org/pandas-docs/stable/indexing.html#indexing-view-versus-copy\n",
      "  if __name__ == '__main__':\n",
      "/Users/veronicabianchini/anaconda/lib/python2.7/site-packages/ipykernel/__main__.py:3: SettingWithCopyWarning: \n",
      "A value is trying to be set on a copy of a slice from a DataFrame.\n",
      "Try using .loc[row_indexer,col_indexer] = value instead\n",
      "\n",
      "See the caveats in the documentation: http://pandas.pydata.org/pandas-docs/stable/indexing.html#indexing-view-versus-copy\n",
      "  app.launch_new_instance()\n"
     ]
    }
   ],
   "source": [
    "clean_sample2['stay_lenght']= clean_sample2['srch_co2']-clean_sample2['srch_ci2']\n",
    "\n",
    "clean_sample2['stay_lenght']=clean_sample2['stay_lenght'].dt.days"
   ]
  },
  {
   "cell_type": "code",
   "execution_count": 12,
   "metadata": {
    "collapsed": false
   },
   "outputs": [],
   "source": [
    "error_dates=clean_sample2[clean_sample2['stay_lenght']<=0]"
   ]
  },
  {
   "cell_type": "code",
   "execution_count": 72,
   "metadata": {
    "collapsed": false
   },
   "outputs": [
    {
     "data": {
      "text/html": [
       "<div>\n",
       "<table border=\"1\" class=\"dataframe\">\n",
       "  <thead>\n",
       "    <tr style=\"text-align: right;\">\n",
       "      <th></th>\n",
       "      <th>Unnamed: 0</th>\n",
       "      <th>date_time</th>\n",
       "      <th>site_name</th>\n",
       "      <th>posa_continent</th>\n",
       "      <th>user_location_country</th>\n",
       "      <th>user_location_region</th>\n",
       "      <th>user_location_city</th>\n",
       "      <th>orig_destination_distance</th>\n",
       "      <th>user_id</th>\n",
       "      <th>is_mobile</th>\n",
       "      <th>...</th>\n",
       "      <th>srch_destination_type_id</th>\n",
       "      <th>is_booking</th>\n",
       "      <th>cnt</th>\n",
       "      <th>hotel_continent</th>\n",
       "      <th>hotel_country</th>\n",
       "      <th>hotel_market</th>\n",
       "      <th>hotel_cluster</th>\n",
       "      <th>srch_co2</th>\n",
       "      <th>srch_ci2</th>\n",
       "      <th>stay_lenght</th>\n",
       "    </tr>\n",
       "  </thead>\n",
       "  <tbody>\n",
       "    <tr>\n",
       "      <th>54</th>\n",
       "      <td>4563</td>\n",
       "      <td>2013-02-10 13:18:32</td>\n",
       "      <td>2</td>\n",
       "      <td>3</td>\n",
       "      <td>66</td>\n",
       "      <td>184</td>\n",
       "      <td>26748</td>\n",
       "      <td>1659.1186</td>\n",
       "      <td>28447</td>\n",
       "      <td>0</td>\n",
       "      <td>...</td>\n",
       "      <td>1</td>\n",
       "      <td>0</td>\n",
       "      <td>1</td>\n",
       "      <td>4</td>\n",
       "      <td>8</td>\n",
       "      <td>110</td>\n",
       "      <td>65</td>\n",
       "      <td>2013-03-19</td>\n",
       "      <td>2013-03-19</td>\n",
       "      <td>0</td>\n",
       "    </tr>\n",
       "    <tr>\n",
       "      <th>204</th>\n",
       "      <td>23465</td>\n",
       "      <td>2013-12-03 20:43:30</td>\n",
       "      <td>37</td>\n",
       "      <td>1</td>\n",
       "      <td>46</td>\n",
       "      <td>171</td>\n",
       "      <td>24727</td>\n",
       "      <td>5847.8806</td>\n",
       "      <td>101809</td>\n",
       "      <td>1</td>\n",
       "      <td>...</td>\n",
       "      <td>1</td>\n",
       "      <td>0</td>\n",
       "      <td>1</td>\n",
       "      <td>3</td>\n",
       "      <td>106</td>\n",
       "      <td>107</td>\n",
       "      <td>64</td>\n",
       "      <td>2013-12-23</td>\n",
       "      <td>2013-12-23</td>\n",
       "      <td>0</td>\n",
       "    </tr>\n",
       "    <tr>\n",
       "      <th>270</th>\n",
       "      <td>20995</td>\n",
       "      <td>2013-12-14 11:57:40</td>\n",
       "      <td>2</td>\n",
       "      <td>3</td>\n",
       "      <td>66</td>\n",
       "      <td>258</td>\n",
       "      <td>6945</td>\n",
       "      <td>1725.9137</td>\n",
       "      <td>93370</td>\n",
       "      <td>0</td>\n",
       "      <td>...</td>\n",
       "      <td>1</td>\n",
       "      <td>0</td>\n",
       "      <td>1</td>\n",
       "      <td>4</td>\n",
       "      <td>47</td>\n",
       "      <td>1508</td>\n",
       "      <td>52</td>\n",
       "      <td>2014-03-29</td>\n",
       "      <td>2014-03-29</td>\n",
       "      <td>0</td>\n",
       "    </tr>\n",
       "    <tr>\n",
       "      <th>301</th>\n",
       "      <td>38012</td>\n",
       "      <td>2013-09-18 22:37:39</td>\n",
       "      <td>2</td>\n",
       "      <td>3</td>\n",
       "      <td>66</td>\n",
       "      <td>174</td>\n",
       "      <td>47371</td>\n",
       "      <td>640.7840</td>\n",
       "      <td>145233</td>\n",
       "      <td>0</td>\n",
       "      <td>...</td>\n",
       "      <td>4</td>\n",
       "      <td>0</td>\n",
       "      <td>1</td>\n",
       "      <td>2</td>\n",
       "      <td>50</td>\n",
       "      <td>659</td>\n",
       "      <td>17</td>\n",
       "      <td>2013-10-18</td>\n",
       "      <td>2013-10-18</td>\n",
       "      <td>0</td>\n",
       "    </tr>\n",
       "    <tr>\n",
       "      <th>320</th>\n",
       "      <td>34202</td>\n",
       "      <td>2014-02-27 12:33:43</td>\n",
       "      <td>2</td>\n",
       "      <td>3</td>\n",
       "      <td>66</td>\n",
       "      <td>356</td>\n",
       "      <td>22202</td>\n",
       "      <td>1103.0742</td>\n",
       "      <td>134013</td>\n",
       "      <td>0</td>\n",
       "      <td>...</td>\n",
       "      <td>1</td>\n",
       "      <td>0</td>\n",
       "      <td>1</td>\n",
       "      <td>2</td>\n",
       "      <td>50</td>\n",
       "      <td>662</td>\n",
       "      <td>92</td>\n",
       "      <td>2014-03-20</td>\n",
       "      <td>2014-03-20</td>\n",
       "      <td>0</td>\n",
       "    </tr>\n",
       "  </tbody>\n",
       "</table>\n",
       "<p>5 rows × 28 columns</p>\n",
       "</div>"
      ],
      "text/plain": [
       "     Unnamed: 0            date_time  site_name  posa_continent  \\\n",
       "54         4563  2013-02-10 13:18:32          2               3   \n",
       "204       23465  2013-12-03 20:43:30         37               1   \n",
       "270       20995  2013-12-14 11:57:40          2               3   \n",
       "301       38012  2013-09-18 22:37:39          2               3   \n",
       "320       34202  2014-02-27 12:33:43          2               3   \n",
       "\n",
       "     user_location_country  user_location_region  user_location_city  \\\n",
       "54                      66                   184               26748   \n",
       "204                     46                   171               24727   \n",
       "270                     66                   258                6945   \n",
       "301                     66                   174               47371   \n",
       "320                     66                   356               22202   \n",
       "\n",
       "     orig_destination_distance  user_id  is_mobile     ...       \\\n",
       "54                   1659.1186    28447          0     ...        \n",
       "204                  5847.8806   101809          1     ...        \n",
       "270                  1725.9137    93370          0     ...        \n",
       "301                   640.7840   145233          0     ...        \n",
       "320                  1103.0742   134013          0     ...        \n",
       "\n",
       "     srch_destination_type_id  is_booking cnt hotel_continent  hotel_country  \\\n",
       "54                          1           0   1               4              8   \n",
       "204                         1           0   1               3            106   \n",
       "270                         1           0   1               4             47   \n",
       "301                         4           0   1               2             50   \n",
       "320                         1           0   1               2             50   \n",
       "\n",
       "     hotel_market  hotel_cluster   srch_co2   srch_ci2  stay_lenght  \n",
       "54            110             65 2013-03-19 2013-03-19            0  \n",
       "204           107             64 2013-12-23 2013-12-23            0  \n",
       "270          1508             52 2014-03-29 2014-03-29            0  \n",
       "301           659             17 2013-10-18 2013-10-18            0  \n",
       "320           662             92 2014-03-20 2014-03-20            0  \n",
       "\n",
       "[5 rows x 28 columns]"
      ]
     },
     "execution_count": 72,
     "metadata": {},
     "output_type": "execute_result"
    }
   ],
   "source": [
    "error_dates.head()"
   ]
  },
  {
   "cell_type": "code",
   "execution_count": 13,
   "metadata": {
    "collapsed": false
   },
   "outputs": [
    {
     "data": {
      "text/plain": [
       "(299703, 28)"
      ]
     },
     "execution_count": 13,
     "metadata": {},
     "output_type": "execute_result"
    }
   ],
   "source": [
    "clean_sample2.shape"
   ]
  },
  {
   "cell_type": "code",
   "execution_count": 14,
   "metadata": {
    "collapsed": false
   },
   "outputs": [],
   "source": [
    "clean_sample3=clean_sample2[clean_sample2.stay_lenght>0]"
   ]
  },
  {
   "cell_type": "code",
   "execution_count": 15,
   "metadata": {
    "collapsed": false
   },
   "outputs": [
    {
     "data": {
      "text/plain": [
       "(298529, 28)"
      ]
     },
     "execution_count": 15,
     "metadata": {},
     "output_type": "execute_result"
    }
   ],
   "source": [
    "clean_sample3.shape"
   ]
  },
  {
   "cell_type": "code",
   "execution_count": 16,
   "metadata": {
    "collapsed": false
   },
   "outputs": [
    {
     "data": {
      "text/html": [
       "<div>\n",
       "<table border=\"1\" class=\"dataframe\">\n",
       "  <thead>\n",
       "    <tr style=\"text-align: right;\">\n",
       "      <th></th>\n",
       "      <th>Unnamed: 0</th>\n",
       "      <th>date_time</th>\n",
       "      <th>site_name</th>\n",
       "      <th>posa_continent</th>\n",
       "      <th>user_location_country</th>\n",
       "      <th>user_location_region</th>\n",
       "      <th>user_location_city</th>\n",
       "      <th>orig_destination_distance</th>\n",
       "      <th>user_id</th>\n",
       "      <th>is_mobile</th>\n",
       "      <th>...</th>\n",
       "      <th>srch_destination_type_id</th>\n",
       "      <th>is_booking</th>\n",
       "      <th>cnt</th>\n",
       "      <th>hotel_continent</th>\n",
       "      <th>hotel_country</th>\n",
       "      <th>hotel_market</th>\n",
       "      <th>hotel_cluster</th>\n",
       "      <th>srch_co2</th>\n",
       "      <th>srch_ci2</th>\n",
       "      <th>stay_lenght</th>\n",
       "    </tr>\n",
       "  </thead>\n",
       "  <tbody>\n",
       "  </tbody>\n",
       "</table>\n",
       "<p>0 rows × 28 columns</p>\n",
       "</div>"
      ],
      "text/plain": [
       "Empty DataFrame\n",
       "Columns: [Unnamed: 0, date_time, site_name, posa_continent, user_location_country, user_location_region, user_location_city, orig_destination_distance, user_id, is_mobile, is_package, channel, srch_ci, srch_co, srch_adults_cnt, srch_children_cnt, srch_rm_cnt, srch_destination_id, srch_destination_type_id, is_booking, cnt, hotel_continent, hotel_country, hotel_market, hotel_cluster, srch_co2, srch_ci2, stay_lenght]\n",
       "Index: []\n",
       "\n",
       "[0 rows x 28 columns]"
      ]
     },
     "execution_count": 16,
     "metadata": {},
     "output_type": "execute_result"
    }
   ],
   "source": [
    "clean_sample3[clean_sample3['stay_lenght']<0]"
   ]
  },
  {
   "cell_type": "markdown",
   "metadata": {},
   "source": [
    "### Now that I have improved my dataset, let's go back to modelling"
   ]
  },
  {
   "cell_type": "code",
   "execution_count": 17,
   "metadata": {
    "collapsed": false
   },
   "outputs": [
    {
     "name": "stderr",
     "output_type": "stream",
     "text": [
      "/Users/veronicabianchini/anaconda/lib/python2.7/site-packages/sklearn/cross_validation.py:44: DeprecationWarning: This module was deprecated in version 0.18 in favor of the model_selection module into which all the refactored classes and functions are moved. Also note that the interface of the new CV iterators are different from that of this module. This module will be removed in 0.20.\n",
      "  \"This module will be removed in 0.20.\", DeprecationWarning)\n",
      "/Users/veronicabianchini/anaconda/lib/python2.7/site-packages/sklearn/grid_search.py:43: DeprecationWarning: This module was deprecated in version 0.18 in favor of the model_selection module into which all the refactored classes and functions are moved. This module will be removed in 0.20.\n",
      "  DeprecationWarning)\n"
     ]
    }
   ],
   "source": [
    "#from sklearn import datasets, neighbors, metrics, grid_search, cross_validation, linear_model\n",
    "\n",
    "from sklearn.grid_search import GridSearchCV\n",
    "#from sklearn import neighbors\n",
    "from sklearn import cross_validation\n",
    "#from sklearn.linear_model import LogisticRegression\n",
    "from sklearn.model_selection import train_test_split\n",
    "#from sklearn import grid_search\n",
    "from sklearn.metrics import accuracy_score, confusion_matrix"
   ]
  },
  {
   "cell_type": "code",
   "execution_count": 18,
   "metadata": {
    "collapsed": true
   },
   "outputs": [],
   "source": [
    "#Get columns to convert to dummy\n",
    "columns_to_dummies = [\n",
    "    'posa_continent',\n",
    "    'user_location_country',\n",
    "    'user_location_region',\n",
    "    'srch_destination_type_id',\n",
    "    'hotel_continent', \n",
    "    'hotel_country',\n",
    "    'hotel_market'\n",
    "]\n",
    "\n",
    "columns_to_drop = [\n",
    "    \"Unnamed: 0\",\n",
    "    \"date_time\",\n",
    "    \"site_name\",\n",
    "    \"user_location_city\",\n",
    "    \"srch_ci2\",\n",
    "    \"srch_co2\",\n",
    "    \"srch_ci\",\n",
    "    \"srch_co\",\n",
    "    \"srch_destination_id\",\n",
    "    \"user_id\",\n",
    "    \"cnt\",\n",
    "    \"channel\"\n",
    "]"
   ]
  },
  {
   "cell_type": "code",
   "execution_count": 19,
   "metadata": {
    "collapsed": false
   },
   "outputs": [
    {
     "data": {
      "text/html": [
       "<div>\n",
       "<table border=\"1\" class=\"dataframe\">\n",
       "  <thead>\n",
       "    <tr style=\"text-align: right;\">\n",
       "      <th></th>\n",
       "      <th>posa_continent</th>\n",
       "      <th>user_location_country</th>\n",
       "      <th>user_location_region</th>\n",
       "      <th>orig_destination_distance</th>\n",
       "      <th>is_mobile</th>\n",
       "      <th>is_package</th>\n",
       "      <th>srch_adults_cnt</th>\n",
       "      <th>srch_children_cnt</th>\n",
       "      <th>srch_rm_cnt</th>\n",
       "      <th>srch_destination_type_id</th>\n",
       "      <th>is_booking</th>\n",
       "      <th>hotel_continent</th>\n",
       "      <th>hotel_country</th>\n",
       "      <th>hotel_market</th>\n",
       "      <th>hotel_cluster</th>\n",
       "      <th>stay_lenght</th>\n",
       "    </tr>\n",
       "  </thead>\n",
       "  <tbody>\n",
       "    <tr>\n",
       "      <th>0</th>\n",
       "      <td>2</td>\n",
       "      <td>23</td>\n",
       "      <td>48</td>\n",
       "      <td>1975.741688</td>\n",
       "      <td>0</td>\n",
       "      <td>0</td>\n",
       "      <td>8</td>\n",
       "      <td>0</td>\n",
       "      <td>4</td>\n",
       "      <td>1</td>\n",
       "      <td>0</td>\n",
       "      <td>3</td>\n",
       "      <td>151</td>\n",
       "      <td>69</td>\n",
       "      <td>81</td>\n",
       "      <td>1</td>\n",
       "    </tr>\n",
       "    <tr>\n",
       "      <th>1</th>\n",
       "      <td>3</td>\n",
       "      <td>66</td>\n",
       "      <td>352</td>\n",
       "      <td>1975.741688</td>\n",
       "      <td>1</td>\n",
       "      <td>1</td>\n",
       "      <td>2</td>\n",
       "      <td>0</td>\n",
       "      <td>1</td>\n",
       "      <td>1</td>\n",
       "      <td>0</td>\n",
       "      <td>4</td>\n",
       "      <td>8</td>\n",
       "      <td>126</td>\n",
       "      <td>2</td>\n",
       "      <td>5</td>\n",
       "    </tr>\n",
       "  </tbody>\n",
       "</table>\n",
       "</div>"
      ],
      "text/plain": [
       "   posa_continent  user_location_country  user_location_region  \\\n",
       "0               2                     23                    48   \n",
       "1               3                     66                   352   \n",
       "\n",
       "   orig_destination_distance  is_mobile  is_package  srch_adults_cnt  \\\n",
       "0                1975.741688          0           0                8   \n",
       "1                1975.741688          1           1                2   \n",
       "\n",
       "   srch_children_cnt  srch_rm_cnt  srch_destination_type_id  is_booking  \\\n",
       "0                  0            4                         1           0   \n",
       "1                  0            1                         1           0   \n",
       "\n",
       "   hotel_continent  hotel_country  hotel_market  hotel_cluster  stay_lenght  \n",
       "0                3            151            69             81            1  \n",
       "1                4              8           126              2            5  "
      ]
     },
     "execution_count": 19,
     "metadata": {},
     "output_type": "execute_result"
    }
   ],
   "source": [
    "df2_dropped = clean_sample3.drop(columns_to_drop, axis=1)\n",
    "df2_dropped.head(2)"
   ]
  },
  {
   "cell_type": "code",
   "execution_count": 20,
   "metadata": {
    "collapsed": false
   },
   "outputs": [
    {
     "data": {
      "text/html": [
       "<div>\n",
       "<table border=\"1\" class=\"dataframe\">\n",
       "  <thead>\n",
       "    <tr style=\"text-align: right;\">\n",
       "      <th></th>\n",
       "      <th>orig_destination_distance</th>\n",
       "      <th>is_mobile</th>\n",
       "      <th>is_package</th>\n",
       "      <th>srch_adults_cnt</th>\n",
       "      <th>srch_children_cnt</th>\n",
       "      <th>srch_rm_cnt</th>\n",
       "      <th>is_booking</th>\n",
       "      <th>hotel_cluster</th>\n",
       "      <th>stay_lenght</th>\n",
       "      <th>posa_continent_0</th>\n",
       "      <th>...</th>\n",
       "      <th>hotel_market_2107</th>\n",
       "      <th>hotel_market_2108</th>\n",
       "      <th>hotel_market_2109</th>\n",
       "      <th>hotel_market_2110</th>\n",
       "      <th>hotel_market_2111</th>\n",
       "      <th>hotel_market_2112</th>\n",
       "      <th>hotel_market_2113</th>\n",
       "      <th>hotel_market_2115</th>\n",
       "      <th>hotel_market_2116</th>\n",
       "      <th>hotel_market_2117</th>\n",
       "    </tr>\n",
       "  </thead>\n",
       "  <tbody>\n",
       "    <tr>\n",
       "      <th>0</th>\n",
       "      <td>1975.741688</td>\n",
       "      <td>0</td>\n",
       "      <td>0</td>\n",
       "      <td>8</td>\n",
       "      <td>0</td>\n",
       "      <td>4</td>\n",
       "      <td>0</td>\n",
       "      <td>81</td>\n",
       "      <td>1</td>\n",
       "      <td>0</td>\n",
       "      <td>...</td>\n",
       "      <td>0</td>\n",
       "      <td>0</td>\n",
       "      <td>0</td>\n",
       "      <td>0</td>\n",
       "      <td>0</td>\n",
       "      <td>0</td>\n",
       "      <td>0</td>\n",
       "      <td>0</td>\n",
       "      <td>0</td>\n",
       "      <td>0</td>\n",
       "    </tr>\n",
       "    <tr>\n",
       "      <th>1</th>\n",
       "      <td>1975.741688</td>\n",
       "      <td>1</td>\n",
       "      <td>1</td>\n",
       "      <td>2</td>\n",
       "      <td>0</td>\n",
       "      <td>1</td>\n",
       "      <td>0</td>\n",
       "      <td>2</td>\n",
       "      <td>5</td>\n",
       "      <td>0</td>\n",
       "      <td>...</td>\n",
       "      <td>0</td>\n",
       "      <td>0</td>\n",
       "      <td>0</td>\n",
       "      <td>0</td>\n",
       "      <td>0</td>\n",
       "      <td>0</td>\n",
       "      <td>0</td>\n",
       "      <td>0</td>\n",
       "      <td>0</td>\n",
       "      <td>0</td>\n",
       "    </tr>\n",
       "  </tbody>\n",
       "</table>\n",
       "<p>2 rows × 3305 columns</p>\n",
       "</div>"
      ],
      "text/plain": [
       "   orig_destination_distance  is_mobile  is_package  srch_adults_cnt  \\\n",
       "0                1975.741688          0           0                8   \n",
       "1                1975.741688          1           1                2   \n",
       "\n",
       "   srch_children_cnt  srch_rm_cnt  is_booking  hotel_cluster  stay_lenght  \\\n",
       "0                  0            4           0             81            1   \n",
       "1                  0            1           0              2            5   \n",
       "\n",
       "   posa_continent_0        ...          hotel_market_2107  hotel_market_2108  \\\n",
       "0                 0        ...                          0                  0   \n",
       "1                 0        ...                          0                  0   \n",
       "\n",
       "   hotel_market_2109  hotel_market_2110  hotel_market_2111  hotel_market_2112  \\\n",
       "0                  0                  0                  0                  0   \n",
       "1                  0                  0                  0                  0   \n",
       "\n",
       "   hotel_market_2113  hotel_market_2115  hotel_market_2116  hotel_market_2117  \n",
       "0                  0                  0                  0                  0  \n",
       "1                  0                  0                  0                  0  \n",
       "\n",
       "[2 rows x 3305 columns]"
      ]
     },
     "execution_count": 20,
     "metadata": {},
     "output_type": "execute_result"
    }
   ],
   "source": [
    "# Create dummy columns and drop original feature columns.\n",
    "df2_dropped_and_dummies = pd.get_dummies(df2_dropped, columns=columns_to_dummies)\n",
    "df2_dropped_and_dummies.head(2)"
   ]
  },
  {
   "cell_type": "code",
   "execution_count": 22,
   "metadata": {
    "collapsed": true
   },
   "outputs": [],
   "source": [
    "X2 = df2_dropped_and_dummies.drop([\"hotel_cluster\"], axis=1)\n",
    "y2 = df2_dropped_and_dummies[\"hotel_cluster\"]\n",
    "X_train2, X_test2, y_train2, y_test2 = train_test_split(X2, y2, test_size=0.33, random_state=42)"
   ]
  },
  {
   "cell_type": "code",
   "execution_count": 31,
   "metadata": {
    "collapsed": false
   },
   "outputs": [
    {
     "data": {
      "text/plain": [
       "DecisionTreeClassifier(class_weight=None, criterion='gini', max_depth=100,\n",
       "            max_features=None, max_leaf_nodes=None,\n",
       "            min_impurity_split=1e-07, min_samples_leaf=1,\n",
       "            min_samples_split=2, min_weight_fraction_leaf=0.0,\n",
       "            presort=False, random_state=None, splitter='best')"
      ]
     },
     "execution_count": 31,
     "metadata": {},
     "output_type": "execute_result"
    }
   ],
   "source": [
    "from sklearn.tree import DecisionTreeClassifier\n",
    "\n",
    "DT_model = DecisionTreeClassifier (max_depth=100)\n",
    "\n",
    "X = X_train2\n",
    "y = y_train2    \n",
    "    \n",
    "# Fits the model\n",
    "DT_model.fit(X, y)"
   ]
  },
  {
   "cell_type": "code",
   "execution_count": 32,
   "metadata": {
    "collapsed": false
   },
   "outputs": [],
   "source": [
    "y_predicted_DT = DT_model.predict(X=X_test2)"
   ]
  },
  {
   "cell_type": "code",
   "execution_count": 33,
   "metadata": {
    "collapsed": false
   },
   "outputs": [
    {
     "name": "stdout",
     "output_type": "stream",
     "text": [
      "0.098563670507\n"
     ]
    }
   ],
   "source": [
    "\n",
    "# We calculate our out of sample or test accuracy\n",
    "print accuracy_score(y_pred=y_predicted_DT, y_true=y_test2)"
   ]
  },
  {
   "cell_type": "code",
   "execution_count": 36,
   "metadata": {
    "collapsed": false
   },
   "outputs": [
    {
     "data": {
      "text/plain": [
       "RandomForestClassifier(bootstrap=True, class_weight=None, criterion='gini',\n",
       "            max_depth=60, max_features='auto', max_leaf_nodes=None,\n",
       "            min_impurity_split=1e-07, min_samples_leaf=1,\n",
       "            min_samples_split=2, min_weight_fraction_leaf=0.0,\n",
       "            n_estimators=200, n_jobs=1, oob_score=True, random_state=None,\n",
       "            verbose=0, warm_start=False)"
      ]
     },
     "execution_count": 36,
     "metadata": {},
     "output_type": "execute_result"
    }
   ],
   "source": [
    "from sklearn.ensemble import RandomForestClassifier\n",
    "\n",
    "RF_model_2 = RandomForestClassifier(n_estimators = 200, max_depth= 60, oob_score= True)\n",
    "    \n",
    "RF_model_2.fit(X_train2, y_train2)"
   ]
  },
  {
   "cell_type": "code",
   "execution_count": 35,
   "metadata": {
    "collapsed": false
   },
   "outputs": [
    {
     "data": {
      "text/plain": [
       "0.11100222984391092"
      ]
     },
     "execution_count": 35,
     "metadata": {},
     "output_type": "execute_result"
    }
   ],
   "source": [
    "RF_model_2.oob_score_ "
   ]
  },
  {
   "cell_type": "code",
   "execution_count": null,
   "metadata": {
    "collapsed": true
   },
   "outputs": [],
   "source": []
  }
 ],
 "metadata": {
  "kernelspec": {
   "display_name": "Python 2",
   "language": "python",
   "name": "python2"
  },
  "language_info": {
   "codemirror_mode": {
    "name": "ipython",
    "version": 2
   },
   "file_extension": ".py",
   "mimetype": "text/x-python",
   "name": "python",
   "nbconvert_exporter": "python",
   "pygments_lexer": "ipython2",
   "version": "2.7.13"
  }
 },
 "nbformat": 4,
 "nbformat_minor": 2
}
